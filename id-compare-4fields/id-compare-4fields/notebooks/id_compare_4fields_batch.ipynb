{
  "cells": [
    {
      "cell_type": "markdown",
      "metadata": {},
      "source": [
        "# ID Compare · 4 Fields (Batch)\n",
        "\n",
        "Notebook de démonstration : OCR des cartes d'identité → comparaison avec Excel.\n",
        "\n",
        "**Entrées**: images anonymisées dans `examples/sample_ids/` et `examples/sample_registry.xlsx`.\n",
        "**Sortie**: `examples/expected_output.csv`.\n"
      ]
    },
    {
      "cell_type": "code",
      "execution_count": null,
      "metadata": {
        "tags": [
          "parameters"
        ]
      },
      "outputs": [],
      "source": [
        "IMAGES_DIR = \"examples/sample_ids\"  # dossier d'images (anonymisées)\\n",
        "EXCEL_PATH = \"examples/sample_registry.xlsx\"\\n",
        "OUTPUT_CSV = \"examples/expected_output.csv\"\\n",
        "LANG = \"fra\"\\n",
        "THRESH = 127\\n",
        "FUZZY_THRESHOLD = 85\\n"
      ]
    },
    {
      "cell_type": "code",
      "execution_count": null,
      "metadata": {},
      "outputs": [],
      "source": [
        "import pandas as pd, numpy as np, os, glob\\n",
        "from src.id_compare.ocr import read_text\\n",
        "from src.id_compare.match import score_pair\\n",
        "from src.id_compare.utils import normalize_name, normalize_dob, parse_id\\n",
        "\\n",
        "df_registry = pd.read_excel(EXCEL_PATH)\\n",
        "rows = []\\n",
        "for img_path in sorted(glob.glob(os.path.join(IMAGES_DIR, '*'))):\\n",
        "    text = \"\"  # Remplacer par read_text(img_path, lang=LANG) si images présentes\\n",
        "    rid = parse_id(text)\\n",
        "    # Démo: on simule un mapping image→ligne si noms de fichiers ID_001/002... existent\\n",
        "    base = os.path.basename(img_path)\\n",
        "    if base.startswith('ID_001'):\\n",
        "        rid, dob, ln, fn = 'GN123456', '1993-05-21', 'CAMARA', 'ALPHA OUMAR'\\n",
        "    elif base.startswith('ID_002'):\\n",
        "        rid, dob, ln, fn = 'GN654321', '1988-09-09', 'DIOP', 'AMADOU OURY'\\n",
        "    else:\\n",
        "        rid, dob, ln, fn = None, None, None, None\\n",
        "    # Recherche registre\\n",
        "    rec = df_registry[df_registry['id_number']==rid].head(1).to_dict('records')\\n",
        "    rec = rec[0] if rec else {{'id_number':None,'dob':None,'last_name':None,'first_name':None}}\\n",
        "    score = int(np.mean([\\n",
        "        score_pair(rid, rec['id_number']),\\n",
        "        score_pair(dob, str(rec['dob'])),\\n",
        "        score_pair(ln, rec['last_name']),\\n",
        "        score_pair(fn, rec['first_name']),\\n",
        "    ]))\\n",
        "    rows.append({{\\n",
        "        'image_file': base,\\n",
        "        'id_match': rid == rec['id_number'],\\n",
        "        'dob_match': dob == str(rec['dob']),\\n",
        "        'last_name_match': normalize_name(ln)==normalize_name(rec['last_name']),\\n",
        "        'first_name_match': normalize_name(fn)==normalize_name(rec['first_name']),\\n",
        "        'score': score\\n",
        "    }})\\n",
        "out = pd.DataFrame(rows)\\n",
        "out.to_csv(OUTPUT_CSV, index=False)\\n",
        "out.head()\\n"
      ]
    }
  ],
  "metadata": {
    "kernelspec": {
      "display_name": "Python 3",
      "language": "python",
      "name": "python3"
    }
  },
  "nbformat": 4,
  "nbformat_minor": 5
}